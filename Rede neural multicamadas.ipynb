{
 "cells": [
  {
   "cell_type": "code",
   "execution_count": 14,
   "metadata": {},
   "outputs": [
    {
     "name": "stdout",
     "output_type": "stream",
     "text": [
      "Erro: 0.011812932541646165\n",
      "[[1.]\n",
      " [0.]\n",
      " [0.]\n",
      " [1.]]\n"
     ]
    }
   ],
   "source": [
    "import numpy as np\n",
    "\n",
    "entradas = np.array([[0,0],\n",
    "                    [0,1],\n",
    "                    [1,0],\n",
    "                    [1,1]])\n",
    "\n",
    "saidas = np.array([[1], [0], [0], [1]])\n",
    "\n",
    "# pesosEntradas = np.array([[-0.424, -0.740, -0.961],\n",
    "#                          [0.358, -0.577,-0.469]])\n",
    "\n",
    "# pesosSaidas = np.array([[-0.017],[-0.893], [0.148]])\n",
    "\n",
    "pesosEntradas = 2*np.random.random((2,3)) - 1\n",
    "pesosSaidas = 2*np.random.random((3,1)) - 1\n",
    "\n",
    "epocas = 200000\n",
    "taxaAprendizado = 0.6\n",
    "momento = 1\n",
    "\n",
    "\n",
    "def sigmoid(soma):\n",
    "    return 1/(1 + np.exp(-soma))\n",
    "\n",
    "def sigmoidDerivada(sig):\n",
    "    return sig*(1-sig)\n",
    "\n",
    "for i in range(epocas):\n",
    "    camadaEntrada = entradas\n",
    "    somaSinapse0 = np.dot(camadaEntrada, pesosEntradas)\n",
    "    camadaOculta = sigmoid(somaSinapse0)\n",
    "\n",
    "    somaSinapse1 = np.dot(camadaOculta, pesosSaidas)\n",
    "    camadaSaida = sigmoid(somaSinapse1)\n",
    "\n",
    "    erroCamadaSaida = saidas - camadaSaida\n",
    "    mediaAbs = np.mean(np.abs(erroCamadaSaida))\n",
    "\n",
    "    derivadaSaida = sigmoidDerivada(camadaSaida)\n",
    "    deltaSaida = erroCamadaSaida * derivadaSaida\n",
    "    \n",
    "    pesosSaidaTransp = pesosSaidas.T\n",
    "    deltaSaidaXPeso = deltaSaida.dot(pesosSaidaTransp)\n",
    "    deltaCamadaOculta = deltaSaidaXPeso * sigmoidDerivada(camadaOculta)\n",
    "   \n",
    "    camadaOcultaTransp = camadaOculta.T\n",
    "    pesosNovoSaida = camadaOcultaTransp.dot(deltaSaida)\n",
    "    pesosSaidas = (pesosSaidas * momento) + (pesosNovoSaida * taxaAprendizado)\n",
    "\n",
    "    camadaEntradaTransp = camadaEntrada.T\n",
    "    pesosNovosEntrada = camadaEntradaTransp.dot(deltaCamadaOculta)\n",
    "    pesosEntradas = (pesosEntradas * momento) + (pesosNovosEntrada * taxaAprendizado)\n",
    "\n",
    "print(\"Erro: \" + str(mediaAbs))\n",
    "print(np.around(camadaSaida))"
   ]
  }
 ],
 "metadata": {
  "kernelspec": {
   "display_name": "Python 3",
   "language": "python",
   "name": "python3"
  },
  "language_info": {
   "codemirror_mode": {
    "name": "ipython",
    "version": 3
   },
   "file_extension": ".py",
   "mimetype": "text/x-python",
   "name": "python",
   "nbconvert_exporter": "python",
   "pygments_lexer": "ipython3",
   "version": "3.10.8"
  }
 },
 "nbformat": 4,
 "nbformat_minor": 2
}
