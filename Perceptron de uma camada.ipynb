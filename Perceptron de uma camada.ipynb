{
 "cells": [
  {
   "cell_type": "markdown",
   "metadata": {},
   "source": [
    "# PERCEPTRON DE UMA CAMADA (aula 9)"
   ]
  },
  {
   "cell_type": "code",
   "execution_count": 21,
   "metadata": {},
   "outputs": [
    {
     "name": "stdout",
     "output_type": "stream",
     "text": [
      "O valor do somatório é:  1.5\n",
      "o resultado é:  1\n"
     ]
    }
   ],
   "source": [
    "entradas = [1, 7, 5]\n",
    "pesos = [0.8, 0.1, 0]\n",
    "\n",
    "def soma(e, p):\n",
    "    somatorio = 0\n",
    "    for i in range(len(entradas)):\n",
    "        somatorio += e[i] * p[i]\n",
    "    return somatorio\n",
    "\n",
    "somatorio = soma(entradas,pesos)\n",
    "print(\"O valor do somatório é: \", somatorio)\n",
    "\n",
    "def stepFunction(s):\n",
    "    if(s > 1):\n",
    "        return 1\n",
    "    return 0\n",
    "    \n",
    "resultado = stepFunction(somatorio)\n",
    "print(\"o resultado é: \", resultado)"
   ]
  },
  {
   "cell_type": "markdown",
   "metadata": {},
   "source": [
    "# PERCEPTRON DE UMA CAMADA (aula 10)"
   ]
  },
  {
   "cell_type": "code",
   "execution_count": 22,
   "metadata": {},
   "outputs": [
    {
     "name": "stdout",
     "output_type": "stream",
     "text": [
      "O valor do somatório é:  1.5\n",
      "o resultado é:  1\n"
     ]
    }
   ],
   "source": [
    "import numpy as np\n",
    "\n",
    "entradas = np.array([1, 7, 5]) #lista do numpy\n",
    "pesos = np.array([0.8, 0.1, 0]) #lista do numpy\n",
    "\n",
    "def soma(e, p):\n",
    "    return e.dot(p) #somatório pelo numpy (somatorio do produto vetoriial)\n",
    "\n",
    "somatorio = soma(entradas,pesos)\n",
    "print(\"O valor do somatório é: \", somatorio)\n",
    "\n",
    "def stepFunction(s):\n",
    "    if(s > 1):\n",
    "        return 1\n",
    "    return 0\n",
    "    \n",
    "resultado = stepFunction(somatorio)\n",
    "print(\"o resultado é: \", resultado)"
   ]
  },
  {
   "cell_type": "markdown",
   "metadata": {},
   "source": [
    "# PERCEPTRON DE UMA CAMADA (aula 14)"
   ]
  },
  {
   "cell_type": "code",
   "execution_count": 2,
   "metadata": {},
   "outputs": [
    {
     "name": "stdout",
     "output_type": "stream",
     "text": [
      "peso atualizado para: 0.0\n",
      "peso atualizado para: 0.0\n",
      "peso atualizado para: 0.0\n",
      "peso atualizado para: 0.1\n",
      "peso atualizado para: 0.1\n",
      "peso atualizado para: 0.1\n",
      "peso atualizado para: 0.2\n",
      "peso atualizado para: 0.2\n",
      "total de erros: 3\n",
      "peso atualizado para: 0.2\n",
      "peso atualizado para: 0.2\n",
      "peso atualizado para: 0.2\n",
      "peso atualizado para: 0.30000000000000004\n",
      "peso atualizado para: 0.30000000000000004\n",
      "peso atualizado para: 0.30000000000000004\n",
      "peso atualizado para: 0.4\n",
      "peso atualizado para: 0.4\n",
      "total de erros: 3\n",
      "peso atualizado para: 0.4\n",
      "peso atualizado para: 0.4\n",
      "peso atualizado para: 0.4\n",
      "peso atualizado para: 0.5\n",
      "peso atualizado para: 0.5\n",
      "peso atualizado para: 0.5\n",
      "peso atualizado para: 0.6\n",
      "peso atualizado para: 0.6\n",
      "total de erros: 3\n",
      "peso atualizado para: 0.6\n",
      "peso atualizado para: 0.6\n",
      "peso atualizado para: 0.6\n",
      "peso atualizado para: 0.7\n",
      "peso atualizado para: 0.7\n",
      "peso atualizado para: 0.7\n",
      "peso atualizado para: 0.7\n",
      "peso atualizado para: 0.7\n",
      "total de erros: 2\n",
      "peso atualizado para: 0.7\n",
      "peso atualizado para: 0.7\n",
      "peso atualizado para: 0.7\n",
      "peso atualizado para: 0.7999999999999999\n",
      "peso atualizado para: 0.7999999999999999\n",
      "peso atualizado para: 0.7999999999999999\n",
      "peso atualizado para: 0.7999999999999999\n",
      "peso atualizado para: 0.7999999999999999\n",
      "total de erros: 2\n",
      "peso atualizado para: 0.7999999999999999\n",
      "peso atualizado para: 0.7999999999999999\n",
      "peso atualizado para: 0.7999999999999999\n",
      "peso atualizado para: 0.8999999999999999\n",
      "peso atualizado para: 0.8999999999999999\n",
      "peso atualizado para: 0.8999999999999999\n",
      "peso atualizado para: 0.8999999999999999\n",
      "peso atualizado para: 0.8999999999999999\n",
      "total de erros: 2\n",
      "peso atualizado para: 0.8999999999999999\n",
      "peso atualizado para: 0.8999999999999999\n",
      "peso atualizado para: 0.8999999999999999\n",
      "peso atualizado para: 0.9999999999999999\n",
      "peso atualizado para: 0.9999999999999999\n",
      "peso atualizado para: 0.9999999999999999\n",
      "peso atualizado para: 0.9999999999999999\n",
      "peso atualizado para: 0.9999999999999999\n",
      "total de erros: 2\n",
      "peso atualizado para: 0.9999999999999999\n",
      "peso atualizado para: 0.9999999999999999\n",
      "peso atualizado para: 0.9999999999999999\n",
      "peso atualizado para: 1.0999999999999999\n",
      "peso atualizado para: 1.0999999999999999\n",
      "peso atualizado para: 1.0999999999999999\n",
      "peso atualizado para: 1.0999999999999999\n",
      "peso atualizado para: 1.0999999999999999\n",
      "total de erros: 2\n",
      "peso atualizado para: 1.0999999999999999\n",
      "peso atualizado para: 1.0999999999999999\n",
      "peso atualizado para: 1.0999999999999999\n",
      "peso atualizado para: 1.0999999999999999\n",
      "peso atualizado para: 1.0999999999999999\n",
      "peso atualizado para: 1.0999999999999999\n",
      "peso atualizado para: 1.0999999999999999\n",
      "peso atualizado para: 1.0999999999999999\n",
      "total de erros: 0\n",
      "Rede neural treinada.\n",
      "0\n",
      "1\n",
      "1\n",
      "1\n"
     ]
    }
   ],
   "source": [
    "import numpy as np\n",
    "\n",
    "entradas = np.array([[0, 0],[0, 1],[1, 0],[1, 1]]) #lista do numpy\n",
    "saidas = np.array([0, 1, 1, 1])\n",
    "pesos = np.array([0.0, 0.0]) #lista do numpy\n",
    "\n",
    "taxaAprendizado = 0.1\n",
    "\n",
    "def stepFunction(s):\n",
    "    if(s > 1):\n",
    "        return 1\n",
    "    return 0\n",
    "\n",
    "def calculoSaida(registro):\n",
    "    s = registro.dot(pesos)\n",
    "    return stepFunction(s)\n",
    "\n",
    "def treinar():\n",
    "    erroTotal = 1\n",
    "\n",
    "    while (erroTotal != 0):\n",
    "        erroTotal = 0\n",
    "        for i in range(len(saidas)):\n",
    "            saidaCalculado = calculoSaida(np.asarray(entradas[i]))\n",
    "            erro = abs(saidas[i] - saidaCalculado)\n",
    "            erroTotal += erro\n",
    "\n",
    "            for j in range(len(pesos)):\n",
    "                pesos[j] = pesos[j] + (taxaAprendizado*entradas[i][j] *erro)\n",
    "                print(\"peso atualizado para: \" + str(pesos[j]))\n",
    "        print(\"total de erros: \" + str(erroTotal))\n",
    "        \n",
    "treinar()\n",
    "\n",
    "print(\"Rede neural treinada.\")\n",
    "\n",
    "print((calculoSaida(entradas[0])))\n",
    "print((calculoSaida(entradas[1])))\n",
    "print((calculoSaida(entradas[2])))\n",
    "print((calculoSaida(entradas[3])))\n"
   ]
  }
 ],
 "metadata": {
  "kernelspec": {
   "display_name": "Python 3",
   "language": "python",
   "name": "python3"
  },
  "language_info": {
   "codemirror_mode": {
    "name": "ipython",
    "version": 3
   },
   "file_extension": ".py",
   "mimetype": "text/x-python",
   "name": "python",
   "nbconvert_exporter": "python",
   "pygments_lexer": "ipython3",
   "version": "3.10.8"
  }
 },
 "nbformat": 4,
 "nbformat_minor": 2
}
